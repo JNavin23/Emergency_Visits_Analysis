{
 "cells": [
  {
   "cell_type": "markdown",
   "id": "8172f958-2842-4f06-94f7-3de35abd0700",
   "metadata": {},
   "source": [
    "Emergency Department Visit Analysis (CDC NHAMCS)"
   ]
  },
  {
   "cell_type": "markdown",
   "id": "6fe24d54-04f4-48f8-8320-c267c71d56be",
   "metadata": {},
   "source": [
    "Import Library"
   ]
  },
  {
   "cell_type": "code",
   "execution_count": 1,
   "id": "b921967c-5159-4c1f-bfb1-c55e6a013bf1",
   "metadata": {},
   "outputs": [],
   "source": [
    "import pandas as pd"
   ]
  },
  {
   "cell_type": "markdown",
   "id": "9f6a8fb5-aef0-4226-ae46-9adf1359f43e",
   "metadata": {},
   "source": [
    "Dataset"
   ]
  },
  {
   "cell_type": "code",
   "execution_count": 4,
   "id": "fb6b599d-ef5c-4d70-9da9-45e97318b50d",
   "metadata": {},
   "outputs": [],
   "source": [
    "emergency_data = pd.read_csv(r'C:\\Users\\navee\\OneDrive\\Desktop\\Dataset\\EmergencyDataset.csv', low_memory=False)"
   ]
  },
  {
   "cell_type": "markdown",
   "id": "82458d46-1d54-45e6-a3ce-8ec5c782c244",
   "metadata": {},
   "source": [
    "Dataset Info"
   ]
  },
  {
   "cell_type": "code",
   "execution_count": 7,
   "id": "58eb0d64-c683-4053-966b-adcad21d0f81",
   "metadata": {},
   "outputs": [
    {
     "data": {
      "text/html": [
       "<div>\n",
       "<style scoped>\n",
       "    .dataframe tbody tr th:only-of-type {\n",
       "        vertical-align: middle;\n",
       "    }\n",
       "\n",
       "    .dataframe tbody tr th {\n",
       "        vertical-align: top;\n",
       "    }\n",
       "\n",
       "    .dataframe thead th {\n",
       "        text-align: right;\n",
       "    }\n",
       "</style>\n",
       "<table border=\"1\" class=\"dataframe\">\n",
       "  <thead>\n",
       "    <tr style=\"text-align: right;\">\n",
       "      <th></th>\n",
       "      <th>Year</th>\n",
       "      <th>Measure Type</th>\n",
       "      <th>Leading 10 Ranking</th>\n",
       "      <th>Measure</th>\n",
       "      <th>Group</th>\n",
       "      <th>Subgroup</th>\n",
       "      <th>Estimate Type</th>\n",
       "      <th>Estimate</th>\n",
       "      <th>Standard Error</th>\n",
       "      <th>Lower 95% CI</th>\n",
       "      <th>Upper 95% CI</th>\n",
       "      <th>Reliable</th>\n",
       "    </tr>\n",
       "  </thead>\n",
       "  <tbody>\n",
       "    <tr>\n",
       "      <th>0</th>\n",
       "      <td>2016</td>\n",
       "      <td>By primary diagnosis</td>\n",
       "      <td>0</td>\n",
       "      <td>All diagnoses</td>\n",
       "      <td>Total</td>\n",
       "      <td>All visits</td>\n",
       "      <td>Visit count</td>\n",
       "      <td>145591000.0</td>\n",
       "      <td>8798000.0</td>\n",
       "      <td>128347000.0</td>\n",
       "      <td>162835000.0</td>\n",
       "      <td>Yes</td>\n",
       "    </tr>\n",
       "    <tr>\n",
       "      <th>1</th>\n",
       "      <td>2016</td>\n",
       "      <td>By primary diagnosis</td>\n",
       "      <td>0</td>\n",
       "      <td>All diagnoses</td>\n",
       "      <td>By sex</td>\n",
       "      <td>Female</td>\n",
       "      <td>Visit count</td>\n",
       "      <td>79595000.0</td>\n",
       "      <td>4803000.0</td>\n",
       "      <td>70182000.0</td>\n",
       "      <td>89008000.0</td>\n",
       "      <td>Yes</td>\n",
       "    </tr>\n",
       "    <tr>\n",
       "      <th>2</th>\n",
       "      <td>2016</td>\n",
       "      <td>By primary diagnosis</td>\n",
       "      <td>0</td>\n",
       "      <td>All diagnoses</td>\n",
       "      <td>By sex</td>\n",
       "      <td>Male</td>\n",
       "      <td>Visit count</td>\n",
       "      <td>65996000.0</td>\n",
       "      <td>4119000.0</td>\n",
       "      <td>57923000.0</td>\n",
       "      <td>74070000.0</td>\n",
       "      <td>Yes</td>\n",
       "    </tr>\n",
       "    <tr>\n",
       "      <th>3</th>\n",
       "      <td>2016</td>\n",
       "      <td>By primary diagnosis</td>\n",
       "      <td>0</td>\n",
       "      <td>All diagnoses</td>\n",
       "      <td>By age</td>\n",
       "      <td>0-17 years old</td>\n",
       "      <td>Visit count</td>\n",
       "      <td>32146000.0</td>\n",
       "      <td>2840000.0</td>\n",
       "      <td>26579000.0</td>\n",
       "      <td>37713000.0</td>\n",
       "      <td>Yes</td>\n",
       "    </tr>\n",
       "    <tr>\n",
       "      <th>4</th>\n",
       "      <td>2016</td>\n",
       "      <td>By primary diagnosis</td>\n",
       "      <td>0</td>\n",
       "      <td>All diagnoses</td>\n",
       "      <td>By age</td>\n",
       "      <td>18-44 years old</td>\n",
       "      <td>Visit count</td>\n",
       "      <td>55978000.0</td>\n",
       "      <td>3436000.0</td>\n",
       "      <td>49243000.0</td>\n",
       "      <td>62713000.0</td>\n",
       "      <td>Yes</td>\n",
       "    </tr>\n",
       "  </tbody>\n",
       "</table>\n",
       "</div>"
      ],
      "text/plain": [
       "   Year          Measure Type  Leading 10 Ranking        Measure   Group  \\\n",
       "0  2016  By primary diagnosis                   0  All diagnoses   Total   \n",
       "1  2016  By primary diagnosis                   0  All diagnoses  By sex   \n",
       "2  2016  By primary diagnosis                   0  All diagnoses  By sex   \n",
       "3  2016  By primary diagnosis                   0  All diagnoses  By age   \n",
       "4  2016  By primary diagnosis                   0  All diagnoses  By age   \n",
       "\n",
       "          Subgroup Estimate Type     Estimate  Standard Error  Lower 95% CI  \\\n",
       "0       All visits   Visit count  145591000.0       8798000.0   128347000.0   \n",
       "1           Female   Visit count   79595000.0       4803000.0    70182000.0   \n",
       "2             Male   Visit count   65996000.0       4119000.0    57923000.0   \n",
       "3   0-17 years old   Visit count   32146000.0       2840000.0    26579000.0   \n",
       "4  18-44 years old   Visit count   55978000.0       3436000.0    49243000.0   \n",
       "\n",
       "   Upper 95% CI Reliable  \n",
       "0   162835000.0      Yes  \n",
       "1    89008000.0      Yes  \n",
       "2    74070000.0      Yes  \n",
       "3    37713000.0      Yes  \n",
       "4    62713000.0      Yes  "
      ]
     },
     "execution_count": 7,
     "metadata": {},
     "output_type": "execute_result"
    }
   ],
   "source": [
    "emergency_data.head()"
   ]
  },
  {
   "cell_type": "code",
   "execution_count": 9,
   "id": "a2a8d1fe-50df-4d83-bf85-a89e37cbbdbd",
   "metadata": {},
   "outputs": [
    {
     "data": {
      "text/plain": [
       "(6776, 12)"
      ]
     },
     "execution_count": 9,
     "metadata": {},
     "output_type": "execute_result"
    }
   ],
   "source": [
    "emergency_data.shape"
   ]
  },
  {
   "cell_type": "code",
   "execution_count": 11,
   "id": "d9f94509-6790-4acb-b41e-1088229b9b02",
   "metadata": {},
   "outputs": [
    {
     "data": {
      "text/plain": [
       "['Year',\n",
       " 'Measure Type',\n",
       " 'Leading 10 Ranking',\n",
       " 'Measure',\n",
       " 'Group',\n",
       " 'Subgroup',\n",
       " 'Estimate Type',\n",
       " 'Estimate',\n",
       " 'Standard Error',\n",
       " 'Lower 95% CI',\n",
       " 'Upper 95% CI',\n",
       " 'Reliable']"
      ]
     },
     "execution_count": 11,
     "metadata": {},
     "output_type": "execute_result"
    }
   ],
   "source": [
    "emergency_data.columns.tolist()"
   ]
  },
  {
   "cell_type": "code",
   "execution_count": 13,
   "id": "ab88749b-4373-41cd-b9f6-1b376f72ef13",
   "metadata": {},
   "outputs": [
    {
     "data": {
      "text/html": [
       "<div>\n",
       "<style scoped>\n",
       "    .dataframe tbody tr th:only-of-type {\n",
       "        vertical-align: middle;\n",
       "    }\n",
       "\n",
       "    .dataframe tbody tr th {\n",
       "        vertical-align: top;\n",
       "    }\n",
       "\n",
       "    .dataframe thead th {\n",
       "        text-align: right;\n",
       "    }\n",
       "</style>\n",
       "<table border=\"1\" class=\"dataframe\">\n",
       "  <thead>\n",
       "    <tr style=\"text-align: right;\">\n",
       "      <th></th>\n",
       "      <th>Year</th>\n",
       "      <th>Measure Type</th>\n",
       "      <th>Leading 10 Ranking</th>\n",
       "      <th>Measure</th>\n",
       "      <th>Group</th>\n",
       "      <th>Subgroup</th>\n",
       "      <th>Estimate Type</th>\n",
       "      <th>Estimate</th>\n",
       "      <th>Standard Error</th>\n",
       "      <th>Lower 95% CI</th>\n",
       "      <th>Upper 95% CI</th>\n",
       "      <th>Reliable</th>\n",
       "    </tr>\n",
       "  </thead>\n",
       "  <tbody>\n",
       "    <tr>\n",
       "      <th>count</th>\n",
       "      <td>6776.000000</td>\n",
       "      <td>6776</td>\n",
       "      <td>6776.000000</td>\n",
       "      <td>6776</td>\n",
       "      <td>6776</td>\n",
       "      <td>6776</td>\n",
       "      <td>6776</td>\n",
       "      <td>5.912000e+03</td>\n",
       "      <td>5.912000e+03</td>\n",
       "      <td>5.912000e+03</td>\n",
       "      <td>5.912000e+03</td>\n",
       "      <td>6776</td>\n",
       "    </tr>\n",
       "    <tr>\n",
       "      <th>unique</th>\n",
       "      <td>NaN</td>\n",
       "      <td>2</td>\n",
       "      <td>NaN</td>\n",
       "      <td>22</td>\n",
       "      <td>7</td>\n",
       "      <td>22</td>\n",
       "      <td>2</td>\n",
       "      <td>NaN</td>\n",
       "      <td>NaN</td>\n",
       "      <td>NaN</td>\n",
       "      <td>NaN</td>\n",
       "      <td>2</td>\n",
       "    </tr>\n",
       "    <tr>\n",
       "      <th>top</th>\n",
       "      <td>NaN</td>\n",
       "      <td>By primary diagnosis</td>\n",
       "      <td>NaN</td>\n",
       "      <td>All diagnoses</td>\n",
       "      <td>By primary payment source</td>\n",
       "      <td>All visits</td>\n",
       "      <td>Visit count</td>\n",
       "      <td>NaN</td>\n",
       "      <td>NaN</td>\n",
       "      <td>NaN</td>\n",
       "      <td>NaN</td>\n",
       "      <td>Yes</td>\n",
       "    </tr>\n",
       "    <tr>\n",
       "      <th>freq</th>\n",
       "      <td>NaN</td>\n",
       "      <td>3388</td>\n",
       "      <td>NaN</td>\n",
       "      <td>308</td>\n",
       "      <td>1540</td>\n",
       "      <td>308</td>\n",
       "      <td>3388</td>\n",
       "      <td>NaN</td>\n",
       "      <td>NaN</td>\n",
       "      <td>NaN</td>\n",
       "      <td>NaN</td>\n",
       "      <td>5912</td>\n",
       "    </tr>\n",
       "    <tr>\n",
       "      <th>mean</th>\n",
       "      <td>2019.000000</td>\n",
       "      <td>NaN</td>\n",
       "      <td>5.000000</td>\n",
       "      <td>NaN</td>\n",
       "      <td>NaN</td>\n",
       "      <td>NaN</td>\n",
       "      <td>NaN</td>\n",
       "      <td>3.453538e+06</td>\n",
       "      <td>3.389640e+05</td>\n",
       "      <td>2.789167e+06</td>\n",
       "      <td>4.117902e+06</td>\n",
       "      <td>NaN</td>\n",
       "    </tr>\n",
       "    <tr>\n",
       "      <th>std</th>\n",
       "      <td>2.000148</td>\n",
       "      <td>NaN</td>\n",
       "      <td>3.162511</td>\n",
       "      <td>NaN</td>\n",
       "      <td>NaN</td>\n",
       "      <td>NaN</td>\n",
       "      <td>NaN</td>\n",
       "      <td>1.209774e+07</td>\n",
       "      <td>9.741212e+05</td>\n",
       "      <td>1.028335e+07</td>\n",
       "      <td>1.393750e+07</td>\n",
       "      <td>NaN</td>\n",
       "    </tr>\n",
       "    <tr>\n",
       "      <th>min</th>\n",
       "      <td>2016.000000</td>\n",
       "      <td>NaN</td>\n",
       "      <td>0.000000</td>\n",
       "      <td>NaN</td>\n",
       "      <td>NaN</td>\n",
       "      <td>NaN</td>\n",
       "      <td>NaN</td>\n",
       "      <td>1.500000e+00</td>\n",
       "      <td>3.000000e-01</td>\n",
       "      <td>9.000000e-01</td>\n",
       "      <td>2.200000e+00</td>\n",
       "      <td>NaN</td>\n",
       "    </tr>\n",
       "    <tr>\n",
       "      <th>25%</th>\n",
       "      <td>2017.000000</td>\n",
       "      <td>NaN</td>\n",
       "      <td>2.000000</td>\n",
       "      <td>NaN</td>\n",
       "      <td>NaN</td>\n",
       "      <td>NaN</td>\n",
       "      <td>NaN</td>\n",
       "      <td>2.050000e+01</td>\n",
       "      <td>3.000000e+00</td>\n",
       "      <td>1.427500e+01</td>\n",
       "      <td>2.660000e+01</td>\n",
       "      <td>NaN</td>\n",
       "    </tr>\n",
       "    <tr>\n",
       "      <th>50%</th>\n",
       "      <td>2019.000000</td>\n",
       "      <td>NaN</td>\n",
       "      <td>5.000000</td>\n",
       "      <td>NaN</td>\n",
       "      <td>NaN</td>\n",
       "      <td>NaN</td>\n",
       "      <td>NaN</td>\n",
       "      <td>8.050420e+04</td>\n",
       "      <td>2.105740e+04</td>\n",
       "      <td>3.691145e+04</td>\n",
       "      <td>1.240996e+05</td>\n",
       "      <td>NaN</td>\n",
       "    </tr>\n",
       "    <tr>\n",
       "      <th>75%</th>\n",
       "      <td>2021.000000</td>\n",
       "      <td>NaN</td>\n",
       "      <td>8.000000</td>\n",
       "      <td>NaN</td>\n",
       "      <td>NaN</td>\n",
       "      <td>NaN</td>\n",
       "      <td>NaN</td>\n",
       "      <td>1.872750e+06</td>\n",
       "      <td>2.570000e+05</td>\n",
       "      <td>1.378000e+06</td>\n",
       "      <td>2.387500e+06</td>\n",
       "      <td>NaN</td>\n",
       "    </tr>\n",
       "    <tr>\n",
       "      <th>max</th>\n",
       "      <td>2022.000000</td>\n",
       "      <td>NaN</td>\n",
       "      <td>10.000000</td>\n",
       "      <td>NaN</td>\n",
       "      <td>NaN</td>\n",
       "      <td>NaN</td>\n",
       "      <td>NaN</td>\n",
       "      <td>1.553980e+08</td>\n",
       "      <td>1.129500e+07</td>\n",
       "      <td>1.353060e+08</td>\n",
       "      <td>1.754890e+08</td>\n",
       "      <td>NaN</td>\n",
       "    </tr>\n",
       "  </tbody>\n",
       "</table>\n",
       "</div>"
      ],
      "text/plain": [
       "               Year          Measure Type  Leading 10 Ranking        Measure  \\\n",
       "count   6776.000000                  6776         6776.000000           6776   \n",
       "unique          NaN                     2                 NaN             22   \n",
       "top             NaN  By primary diagnosis                 NaN  All diagnoses   \n",
       "freq            NaN                  3388                 NaN            308   \n",
       "mean    2019.000000                   NaN            5.000000            NaN   \n",
       "std        2.000148                   NaN            3.162511            NaN   \n",
       "min     2016.000000                   NaN            0.000000            NaN   \n",
       "25%     2017.000000                   NaN            2.000000            NaN   \n",
       "50%     2019.000000                   NaN            5.000000            NaN   \n",
       "75%     2021.000000                   NaN            8.000000            NaN   \n",
       "max     2022.000000                   NaN           10.000000            NaN   \n",
       "\n",
       "                            Group    Subgroup Estimate Type      Estimate  \\\n",
       "count                        6776        6776          6776  5.912000e+03   \n",
       "unique                          7          22             2           NaN   \n",
       "top     By primary payment source  All visits   Visit count           NaN   \n",
       "freq                         1540         308          3388           NaN   \n",
       "mean                          NaN         NaN           NaN  3.453538e+06   \n",
       "std                           NaN         NaN           NaN  1.209774e+07   \n",
       "min                           NaN         NaN           NaN  1.500000e+00   \n",
       "25%                           NaN         NaN           NaN  2.050000e+01   \n",
       "50%                           NaN         NaN           NaN  8.050420e+04   \n",
       "75%                           NaN         NaN           NaN  1.872750e+06   \n",
       "max                           NaN         NaN           NaN  1.553980e+08   \n",
       "\n",
       "        Standard Error  Lower 95% CI  Upper 95% CI Reliable  \n",
       "count     5.912000e+03  5.912000e+03  5.912000e+03     6776  \n",
       "unique             NaN           NaN           NaN        2  \n",
       "top                NaN           NaN           NaN      Yes  \n",
       "freq               NaN           NaN           NaN     5912  \n",
       "mean      3.389640e+05  2.789167e+06  4.117902e+06      NaN  \n",
       "std       9.741212e+05  1.028335e+07  1.393750e+07      NaN  \n",
       "min       3.000000e-01  9.000000e-01  2.200000e+00      NaN  \n",
       "25%       3.000000e+00  1.427500e+01  2.660000e+01      NaN  \n",
       "50%       2.105740e+04  3.691145e+04  1.240996e+05      NaN  \n",
       "75%       2.570000e+05  1.378000e+06  2.387500e+06      NaN  \n",
       "max       1.129500e+07  1.353060e+08  1.754890e+08      NaN  "
      ]
     },
     "execution_count": 13,
     "metadata": {},
     "output_type": "execute_result"
    }
   ],
   "source": [
    "emergency_data.describe(include='all')"
   ]
  },
  {
   "cell_type": "markdown",
   "id": "d56b3bc3-23a3-476f-aacb-f49502692ec8",
   "metadata": {},
   "source": [
    "Data Cleaning"
   ]
  },
  {
   "cell_type": "code",
   "execution_count": 19,
   "id": "e9b20d96-69e3-4609-973a-46ff78459fb1",
   "metadata": {},
   "outputs": [],
   "source": [
    "emergency_data.columns = (emergency_data.columns\n",
    ".str.strip()\n",
    ".str.lower()\n",
    ".str.replace(' ', '_')\n",
    ".str.replace('-', '_')\n",
    ".str.replace('(', '')\n",
    ".str.replace(')', '')\n",
    ".str.replace('/', '_')\n",
    ")"
   ]
  },
  {
   "cell_type": "code",
   "execution_count": 21,
   "id": "823485f3-1788-4219-b2e5-1d557caf4802",
   "metadata": {},
   "outputs": [],
   "source": [
    "columns_to_drop = ['standard_error', 'lower_95%_ci', 'upper_95%_ci']\n",
    "emergency_data.drop(columns=columns_to_drop, inplace=True)"
   ]
  },
  {
   "cell_type": "code",
   "execution_count": 23,
   "id": "445389ce-0741-499c-b61f-7e04f3f9d75d",
   "metadata": {},
   "outputs": [
    {
     "data": {
      "text/plain": [
       "estimate              864\n",
       "year                    0\n",
       "measure_type            0\n",
       "leading_10_ranking      0\n",
       "measure                 0\n",
       "group                   0\n",
       "subgroup                0\n",
       "estimate_type           0\n",
       "reliable                0\n",
       "dtype: int64"
      ]
     },
     "execution_count": 23,
     "metadata": {},
     "output_type": "execute_result"
    }
   ],
   "source": [
    "emergency_data.isnull().sum().sort_values(ascending=False)"
   ]
  },
  {
   "cell_type": "code",
   "execution_count": 25,
   "id": "e9d67dfc-c7b0-4b2d-a39b-a4a586d84ace",
   "metadata": {},
   "outputs": [],
   "source": [
    "emergency_data = emergency_data[emergency_data['estimate'].notnull()]"
   ]
  },
  {
   "cell_type": "code",
   "execution_count": 27,
   "id": "85408174-5feb-4de9-aa6e-ba81b8d98f5d",
   "metadata": {},
   "outputs": [],
   "source": [
    "pd.set_option('display.float_format', '{:.0f}'.format)"
   ]
  },
  {
   "cell_type": "markdown",
   "id": "6257c536-8bd7-4a54-9bfb-41aa04a4af9b",
   "metadata": {},
   "source": [
    " Export Cleaned Dataset"
   ]
  },
  {
   "cell_type": "code",
   "execution_count": 30,
   "id": "dc2dc727-1dfe-4f78-91e1-d18a03c7b97f",
   "metadata": {},
   "outputs": [],
   "source": [
    "emergency_data.to_csv(r'C:\\Users\\navee\\OneDrive\\Desktop\\Dataset\\cleaned_emergency_visits.csv', index=False)"
   ]
  }
 ],
 "metadata": {
  "kernelspec": {
   "display_name": "Python [conda env:base] *",
   "language": "python",
   "name": "conda-base-py"
  },
  "language_info": {
   "codemirror_mode": {
    "name": "ipython",
    "version": 3
   },
   "file_extension": ".py",
   "mimetype": "text/x-python",
   "name": "python",
   "nbconvert_exporter": "python",
   "pygments_lexer": "ipython3",
   "version": "3.12.7"
  }
 },
 "nbformat": 4,
 "nbformat_minor": 5
}
